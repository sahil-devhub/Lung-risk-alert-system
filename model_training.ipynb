{
 "cells": [
  {
   "cell_type": "code",
   "execution_count": 1,
   "metadata": {},
   "outputs": [],
   "source": [
    "import pandas as pd\n",
    "import numpy as np\n",
    "from sklearn.model_selection import train_test_split, GridSearchCV\n",
    "from sklearn.ensemble import RandomForestClassifier\n",
    "from sklearn.preprocessing import LabelEncoder\n",
    "from sklearn.metrics import classification_report, confusion_matrix, roc_auc_score\n",
    "import pickle\n",
    "import matplotlib.pyplot as plt\n",
    "import seaborn as sns"
   ]
  },
  {
   "cell_type": "code",
   "execution_count": 2,
   "metadata": {},
   "outputs": [],
   "source": [
    "df = pd.read_csv(r\"C:\\Users\\Welcome\\Downloads\\NeoLung-main\\Dataset\\survey lung cancer.csv\")\n"
   ]
  },
  {
   "cell_type": "code",
   "execution_count": 3,
   "metadata": {},
   "outputs": [
    {
     "name": "stdout",
     "output_type": "stream",
     "text": [
      "Dataset shape: (309, 16)\n",
      "\n",
      "Sample data:\n",
      "  GENDER  AGE  SMOKING  YELLOW_FINGERS  ANXIETY  PEER_PRESSURE  \\\n",
      "0      M   69        1               2        2              1   \n",
      "1      M   74        2               1        1              1   \n",
      "2      F   59        1               1        1              2   \n",
      "3      M   63        2               2        2              1   \n",
      "4      F   63        1               2        1              1   \n",
      "\n",
      "   CHRONIC DISEASE  FATIGUE  ALLERGY  WHEEZING  ALCOHOL CONSUMING  COUGHING  \\\n",
      "0                1        2        1         2                  2         2   \n",
      "1                2        2        2         1                  1         1   \n",
      "2                1        2        1         2                  1         2   \n",
      "3                1        1        1         1                  2         1   \n",
      "4                1        1        1         2                  1         2   \n",
      "\n",
      "   SHORTNESS OF BREATH  SWALLOWING DIFFICULTY  CHEST PAIN LUNG_CANCER  \n",
      "0                    2                      2           2         YES  \n",
      "1                    2                      2           2         YES  \n",
      "2                    2                      1           2          NO  \n",
      "3                    1                      2           2          NO  \n",
      "4                    2                      1           1          NO  \n",
      "\n",
      "Data types:\n",
      "GENDER                   object\n",
      "AGE                       int64\n",
      "SMOKING                   int64\n",
      "YELLOW_FINGERS            int64\n",
      "ANXIETY                   int64\n",
      "PEER_PRESSURE             int64\n",
      "CHRONIC DISEASE           int64\n",
      "FATIGUE                   int64\n",
      "ALLERGY                   int64\n",
      "WHEEZING                  int64\n",
      "ALCOHOL CONSUMING         int64\n",
      "COUGHING                  int64\n",
      "SHORTNESS OF BREATH       int64\n",
      "SWALLOWING DIFFICULTY     int64\n",
      "CHEST PAIN                int64\n",
      "LUNG_CANCER              object\n",
      "dtype: object\n",
      "\n",
      "Class distribution:\n",
      "LUNG_CANCER\n",
      "YES    270\n",
      "NO      39\n",
      "Name: count, dtype: int64\n"
     ]
    }
   ],
   "source": [
    "print(\"Dataset shape:\", df.shape)\n",
    "print(\"\\nSample data:\")\n",
    "print(df.head())\n",
    "print(\"\\nData types:\")\n",
    "print(df.dtypes)\n",
    "print(\"\\nClass distribution:\")\n",
    "print(df['LUNG_CANCER'].value_counts())"
   ]
  },
  {
   "cell_type": "code",
   "execution_count": 4,
   "metadata": {},
   "outputs": [
    {
     "name": "stdout",
     "output_type": "stream",
     "text": [
      "\n",
      "Encoded target:\n",
      "LUNG_CANCER_ENCODED\n",
      "1    270\n",
      "0     39\n",
      "Name: count, dtype: int64\n",
      "Class mapping: {'NO': 0, 'YES': 1}\n"
     ]
    }
   ],
   "source": [
    "label_encoder = LabelEncoder()\n",
    "df['LUNG_CANCER_ENCODED'] = label_encoder.fit_transform(df['LUNG_CANCER'])\n",
    "print(\"\\nEncoded target:\")\n",
    "print(df['LUNG_CANCER_ENCODED'].value_counts())\n",
    "print(f\"Class mapping: {dict(zip(label_encoder.classes_, label_encoder.transform(label_encoder.classes_)))}\")"
   ]
  },
  {
   "cell_type": "code",
   "execution_count": 5,
   "metadata": {},
   "outputs": [],
   "source": [
    "X = df.drop(['LUNG_CANCER', 'LUNG_CANCER_ENCODED'], axis=1)\n",
    "y = df['LUNG_CANCER_ENCODED']"
   ]
  },
  {
   "cell_type": "code",
   "execution_count": 8,
   "metadata": {},
   "outputs": [
    {
     "data": {
      "image/png": "[encoded data removed]",
      "text/plain": [
       "<Figure size 400x300 with 1 Axes>"
      ]
     },
     "metadata": {},
     "output_type": "display_data"
    }
   ],
   "source": [
    "plt.figure(figsize=(4, 3))\n",
    "sns.countplot(x=df['LUNG_CANCER'])\n",
    "plt.title('Class Distribution')\n",
    "plt.show()"
   ]
  },
  {
   "cell_type": "code",
   "execution_count": 9,
   "metadata": {},
   "outputs": [
    {
     "name": "stdout",
     "output_type": "stream",
     "text": [
      "\n",
      "Feature statistics:\n",
      "           GENDER         AGE     SMOKING  YELLOW_FINGERS     ANXIETY  \\\n",
      "count  309.000000  309.000000  309.000000      309.000000  309.000000   \n",
      "mean     0.524272   62.673139    0.563107        0.569579    0.498382   \n",
      "std      0.500221    8.210301    0.496806        0.495938    0.500808   \n",
      "min      0.000000   21.000000    0.000000        0.000000    0.000000   \n",
      "25%      0.000000   57.000000    0.000000        0.000000    0.000000   \n",
      "50%      1.000000   62.000000    1.000000        1.000000    0.000000   \n",
      "75%      1.000000   69.000000    1.000000        1.000000    1.000000   \n",
      "max      1.000000   87.000000    1.000000        1.000000    1.000000   \n",
      "\n",
      "       PEER_PRESSURE  CHRONIC DISEASE     FATIGUE     ALLERGY    WHEEZING  \\\n",
      "count     309.000000       309.000000  309.000000  309.000000  309.000000   \n",
      "mean        0.501618         0.504854    0.673139    0.556634    0.556634   \n",
      "std         0.500808         0.500787    0.469827    0.497588    0.497588   \n",
      "min         0.000000         0.000000    0.000000    0.000000    0.000000   \n",
      "25%         0.000000         0.000000    0.000000    0.000000    0.000000   \n",
      "50%         1.000000         1.000000    1.000000    1.000000    1.000000   \n",
      "75%         1.000000         1.000000    1.000000    1.000000    1.000000   \n",
      "max         1.000000         1.000000    1.000000    1.000000    1.000000   \n",
      "\n",
      "       ALCOHOL CONSUMING    COUGHING  SHORTNESS OF BREATH  \\\n",
      "count         309.000000  309.000000           309.000000   \n",
      "mean            0.556634    0.579288             0.640777   \n",
      "std             0.497588    0.494474             0.480551   \n",
      "min             0.000000    0.000000             0.000000   \n",
      "25%             0.000000    0.000000             0.000000   \n",
      "50%             1.000000    1.000000             1.000000   \n",
      "75%             1.000000    1.000000             1.000000   \n",
      "max             1.000000    1.000000             1.000000   \n",
      "\n",
      "       SWALLOWING DIFFICULTY  CHEST PAIN  \n",
      "count             309.000000  309.000000  \n",
      "mean                0.469256    0.556634  \n",
      "std                 0.499863    0.497588  \n",
      "min                 0.000000    0.000000  \n",
      "25%                 0.000000    0.000000  \n",
      "50%                 0.000000    1.000000  \n",
      "75%                 1.000000    1.000000  \n",
      "max                 1.000000    1.000000  \n"
     ]
    }
   ],
   "source": [
    "X['GENDER'] = X['GENDER'].map({'M': 1, 'F': 0})\n",
    "\n",
    "# Convert all 1/2 values to 0/1 values (assuming 1=No, 2=Yes)\n",
    "binary_columns = ['SMOKING', 'YELLOW_FINGERS', 'ANXIETY', 'PEER_PRESSURE',\n",
    "                  'CHRONIC DISEASE', 'FATIGUE', 'ALLERGY', 'WHEEZING', \n",
    "                  'ALCOHOL CONSUMING', 'COUGHING', 'SHORTNESS OF BREATH',\n",
    "                  'SWALLOWING DIFFICULTY', 'CHEST PAIN']\n",
    "\n",
    "for col in binary_columns:\n",
    "    X[col] = X[col].map({1: 0, 2: 1})  # Convert 1->0 and 2->1\n",
    "\n",
    "# Display feature statistics\n",
    "print(\"\\nFeature statistics:\")\n",
    "print(X.describe())\n",
    "\n",
    "# Split the data\n",
    "X_train, X_test, y_train, y_test = train_test_split(X, y, test_size=0.3, random_state=42, stratify=y)\n"
   ]
  },
  {
   "cell_type": "code",
   "execution_count": 10,
   "metadata": {},
   "outputs": [
    {
     "name": "stdout",
     "output_type": "stream",
     "text": [
      "Fitting 5 folds for each of 108 candidates, totalling 540 fits\n",
      "\n",
      "Best parameters: {'class_weight': 'balanced', 'max_depth': None, 'min_samples_leaf': 4, 'min_samples_split': 2, 'n_estimators': 100}\n",
      "\n",
      "Confusion Matrix:\n",
      "[[11  1]\n",
      " [ 6 75]]\n"
     ]
    }
   ],
   "source": [
    "param_grid = {\n",
    "    'n_estimators': [100, 200],\n",
    "    'max_depth': [None, 10, 20],\n",
    "    'min_samples_split': [2, 5, 10],\n",
    "    'min_samples_leaf': [1, 2, 4],\n",
    "    'class_weight': [None, 'balanced']\n",
    "}\n",
    "\n",
    "grid_search = GridSearchCV(\n",
    "    estimator=RandomForestClassifier(random_state=42),\n",
    "    param_grid=param_grid,\n",
    "    cv=5,\n",
    "    scoring='roc_auc',\n",
    "    n_jobs=-1,\n",
    "    verbose=1\n",
    ")\n",
    "\n",
    "grid_search.fit(X_train, y_train)\n",
    "\n",
    "# Print best parameters\n",
    "print(\"\\nBest parameters:\", grid_search.best_params_)\n",
    "best_model = grid_search.best_estimator_\n",
    "\n",
    "# Evaluate the model\n",
    "y_pred = best_model.predict(X_test)\n",
    "y_pred_proba = best_model.predict_proba(X_test)[:, 1]\n",
    "\n",
    "print(\"\\nConfusion Matrix:\")\n",
    "conf_matrix = confusion_matrix(y_test, y_pred)\n",
    "print(conf_matrix)"
   ]
  },
  {
   "cell_type": "code",
   "execution_count": 11,
   "metadata": {},
   "outputs": [
    {
     "data": {
      "image/png": "[encoded data removed]",
      "text/plain": [
       "<Figure size 400x300 with 2 Axes>"
      ]
     },
     "metadata": {},
     "output_type": "display_data"
    }
   ],
   "source": [
    "plt.figure(figsize=(4, 3))\n",
    "sns.heatmap(conf_matrix, annot=True, fmt='d', cmap='Blues',\n",
    "            xticklabels=['No Cancer', 'Cancer'],\n",
    "            yticklabels=['No Cancer', 'Cancer'])\n",
    "plt.xlabel('Predicted')\n",
    "plt.ylabel('Actual')\n",
    "plt.title('Confusion Matrix')\n",
    "plt.show()"
   ]
  },
  {
   "cell_type": "code",
   "execution_count": 12,
   "metadata": {},
   "outputs": [
    {
     "name": "stdout",
     "output_type": "stream",
     "text": [
      "\n",
      "Classification Report:\n",
      "              precision    recall  f1-score   support\n",
      "\n",
      "   No Cancer       0.65      0.92      0.76        12\n",
      "      Cancer       0.99      0.93      0.96        81\n",
      "\n",
      "    accuracy                           0.92        93\n",
      "   macro avg       0.82      0.92      0.86        93\n",
      "weighted avg       0.94      0.92      0.93        93\n",
      "\n",
      "\n",
      "ROC AUC Score: 0.955761316872428\n"
     ]
    }
   ],
   "source": [
    "print(\"\\nClassification Report:\")\n",
    "print(classification_report(y_test, y_pred, target_names=['No Cancer', 'Cancer']))\n",
    "\n",
    "print(\"\\nROC AUC Score:\", roc_auc_score(y_test, y_pred_proba))\n"
   ]
  },
  {
   "cell_type": "code",
   "execution_count": 17,
   "metadata": {},
   "outputs": [
    {
     "name": "stdout",
     "output_type": "stream",
     "text": [
      "Accuracy :  0.9247311827956989\n"
     ]
    }
   ],
   "source": [
    "from sklearn.metrics import accuracy_score, precision_score, recall_score, f1_score\n",
    "\n",
    "print(\"Accuracy : \" , accuracy_score(y_test, y_pred))\n"
   ]
  },
  {
   "cell_type": "code",
   "execution_count": 13,
   "metadata": {},
   "outputs": [
    {
     "name": "stdout",
     "output_type": "stream",
     "text": [
      "\n",
      "Feature Importance:\n",
      "                  Feature  Importance\n",
      "8                 ALLERGY    0.168754\n",
      "10      ALCOHOL CONSUMING    0.145659\n",
      "1                     AGE    0.108915\n",
      "13  SWALLOWING DIFFICULTY    0.085946\n",
      "5           PEER_PRESSURE    0.078787\n",
      "11               COUGHING    0.056979\n",
      "9                WHEEZING    0.052782\n",
      "4                 ANXIETY    0.052422\n",
      "7                 FATIGUE    0.050303\n",
      "3          YELLOW_FINGERS    0.047969\n",
      "12    SHORTNESS OF BREATH    0.036872\n",
      "14             CHEST PAIN    0.035498\n",
      "6         CHRONIC DISEASE    0.034995\n",
      "0                  GENDER    0.022500\n",
      "2                 SMOKING    0.021619\n"
     ]
    },
    {
     "data": {
      "image/png": "[encoded data removed]",
      "text/plain": [
       "<Figure size 500x400 with 1 Axes>"
      ]
     },
     "metadata": {},
     "output_type": "display_data"
    }
   ],
   "source": [
    "feature_importance = pd.DataFrame({\n",
    "    'Feature': X.columns,\n",
    "    'Importance': best_model.feature_importances_\n",
    "}).sort_values(by='Importance', ascending=False)\n",
    "\n",
    "print(\"\\nFeature Importance:\")\n",
    "print(feature_importance)\n",
    "\n",
    "plt.figure(figsize=(5, 4))\n",
    "sns.barplot(x='Importance', y='Feature', data=feature_importance)\n",
    "plt.title('Feature Importance')\n",
    "plt.tight_layout()\n",
    "plt.show()"
   ]
  },
  {
   "cell_type": "code",
   "execution_count": 14,
   "metadata": {},
   "outputs": [
    {
     "name": "stdout",
     "output_type": "stream",
     "text": [
      "\n",
      "Model saved as 'lung_cancer_model.pkl'\n",
      "\n",
      "Feature reference saved as 'feature_reference.pkl'\n"
     ]
    }
   ],
   "source": [
    "with open('lung_cancer_model.pkl', 'wb') as model_file:\n",
    "    pickle.dump(best_model, model_file)\n",
    "\n",
    "print(\"\\nModel saved as 'lung_cancer_model.pkl'\")\n",
    "\n",
    "# Create a reference dataframe with the exact feature names used in training\n",
    "feature_ref = pd.DataFrame(columns=X.columns)\n",
    "with open('feature_reference.pkl', 'wb') as ref_file:\n",
    "    pickle.dump(feature_ref, ref_file)\n",
    "\n",
    "print(\"\\nFeature reference saved as 'feature_reference.pkl'\")"
   ]
  },
  {
   "cell_type": "code",
   "execution_count": null,
   "metadata": {},
   "outputs": [],
   "source": []
  }
 ],
 "metadata": {
  "kernelspec": {
   "display_name": "Python 3",
   "language": "python",
   "name": "python3"
  },
  "language_info": {
   "codemirror_mode": {
    "name": "ipython",
    "version": 3
   },
   "file_extension": ".py",
   "mimetype": "text/x-python",
   "name": "python",
   "nbconvert_exporter": "python",
   "pygments_lexer": "ipython3",
   "version": "3.10.10"
  }
 },
 "nbformat": 4,
 "nbformat_minor": 2
}
